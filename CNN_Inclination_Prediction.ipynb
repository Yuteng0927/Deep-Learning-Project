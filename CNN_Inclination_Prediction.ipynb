{
  "cells": [
    {
      "cell_type": "markdown",
      "metadata": {
        "id": "_pkUIg4UwaZE"
      },
      "source": [
        "# Magnetic Maps Inclination Prediction using convolutional neural networks (CNNs)"
      ]
    },
    {
      "cell_type": "markdown",
      "metadata": {
        "id": "Oux4idqawaZP"
      },
      "source": [
        "## Overview\n",
        "The purpose of this Project is to train a CNN predictor that can predict inclinations of the magnetization of a source body in the subsurface, given a magnetic data map. \n",
        "\n",
        "During this project:\n",
        "* understand the workflow of training a CNN.\n",
        "* use Keras to train a CNN and make predictions."
      ]
    },
    {
      "cell_type": "markdown",
      "metadata": {
        "id": "bjsBNWNdOS8B"
      },
      "source": [
        "## 0. What is inclination?\n",
        "\n",
        "The Earth's magnetic field can be represented by a three-dimensional vector. A typical procedure for measuring its direction is to use a compass to determine the direction of magnetic North. Its angle relative to true North is the declination (D) or variation. Facing magnetic North, the angle the field makes with the horizontal is the inclination (I) or magnetic dip. The intensity (F) of the field is proportional to the force it exerts on a magnet.\n",
        "\n",
        "<img src = \"https://drive.google.com/uc?id=1-IJX4-gJRTmkxgP-diI5p0pndLIPJPf1\" width = \"600\">\n"
      ]
    },
    {
      "cell_type": "markdown",
      "metadata": {
        "id": "nHgp4N5nwaZQ"
      },
      "source": [
        "## 1. Import Packages"
      ]
    },
    {
      "cell_type": "code",
      "execution_count": 1,
      "metadata": {
        "id": "AJyl9JCawaZR"
      },
      "outputs": [],
      "source": [
        "import numpy as np\n",
        "from keras.datasets import mnist\n",
        "from keras.models import Sequential\n",
        "from keras.layers import Dense, Dropout, Flatten\n",
        "from keras.layers import Conv2D, MaxPooling2D, ZeroPadding2D, BatchNormalization, Activation\n",
        "from keras.utils import to_categorical\n",
        "\n",
        "import matplotlib.pyplot as plt \n",
        "import tensorflow as tf\n",
        "import pandas as pd"
      ]
    },
    {
      "cell_type": "markdown",
      "metadata": {
        "id": "p4XxNcqhwaZS"
      },
      "source": [
        "## 2. Load Data"
      ]
    },
    {
      "cell_type": "code",
      "execution_count": 2,
      "metadata": {
        "colab": {
          "base_uri": "https://localhost:8080/",
          "height": 179
        },
        "id": "tf-UhrKpzDl9",
        "outputId": "2470e4b5-ec83-4c05-d389-a48e2a1cd1e3"
      },
      "outputs": [
        {
          "output_type": "display_data",
          "data": {
            "text/plain": [
              "<IPython.core.display.HTML object>"
            ],
            "text/html": [
              "\n",
              "     <input type=\"file\" id=\"files-04f77ab1-9fff-4f13-880f-c40f0723300c\" name=\"files[]\" multiple disabled\n",
              "        style=\"border:none\" />\n",
              "     <output id=\"result-04f77ab1-9fff-4f13-880f-c40f0723300c\">\n",
              "      Upload widget is only available when the cell has been executed in the\n",
              "      current browser session. Please rerun this cell to enable.\n",
              "      </output>\n",
              "      <script>// Copyright 2017 Google LLC\n",
              "//\n",
              "// Licensed under the Apache License, Version 2.0 (the \"License\");\n",
              "// you may not use this file except in compliance with the License.\n",
              "// You may obtain a copy of the License at\n",
              "//\n",
              "//      http://www.apache.org/licenses/LICENSE-2.0\n",
              "//\n",
              "// Unless required by applicable law or agreed to in writing, software\n",
              "// distributed under the License is distributed on an \"AS IS\" BASIS,\n",
              "// WITHOUT WARRANTIES OR CONDITIONS OF ANY KIND, either express or implied.\n",
              "// See the License for the specific language governing permissions and\n",
              "// limitations under the License.\n",
              "\n",
              "/**\n",
              " * @fileoverview Helpers for google.colab Python module.\n",
              " */\n",
              "(function(scope) {\n",
              "function span(text, styleAttributes = {}) {\n",
              "  const element = document.createElement('span');\n",
              "  element.textContent = text;\n",
              "  for (const key of Object.keys(styleAttributes)) {\n",
              "    element.style[key] = styleAttributes[key];\n",
              "  }\n",
              "  return element;\n",
              "}\n",
              "\n",
              "// Max number of bytes which will be uploaded at a time.\n",
              "const MAX_PAYLOAD_SIZE = 100 * 1024;\n",
              "\n",
              "function _uploadFiles(inputId, outputId) {\n",
              "  const steps = uploadFilesStep(inputId, outputId);\n",
              "  const outputElement = document.getElementById(outputId);\n",
              "  // Cache steps on the outputElement to make it available for the next call\n",
              "  // to uploadFilesContinue from Python.\n",
              "  outputElement.steps = steps;\n",
              "\n",
              "  return _uploadFilesContinue(outputId);\n",
              "}\n",
              "\n",
              "// This is roughly an async generator (not supported in the browser yet),\n",
              "// where there are multiple asynchronous steps and the Python side is going\n",
              "// to poll for completion of each step.\n",
              "// This uses a Promise to block the python side on completion of each step,\n",
              "// then passes the result of the previous step as the input to the next step.\n",
              "function _uploadFilesContinue(outputId) {\n",
              "  const outputElement = document.getElementById(outputId);\n",
              "  const steps = outputElement.steps;\n",
              "\n",
              "  const next = steps.next(outputElement.lastPromiseValue);\n",
              "  return Promise.resolve(next.value.promise).then((value) => {\n",
              "    // Cache the last promise value to make it available to the next\n",
              "    // step of the generator.\n",
              "    outputElement.lastPromiseValue = value;\n",
              "    return next.value.response;\n",
              "  });\n",
              "}\n",
              "\n",
              "/**\n",
              " * Generator function which is called between each async step of the upload\n",
              " * process.\n",
              " * @param {string} inputId Element ID of the input file picker element.\n",
              " * @param {string} outputId Element ID of the output display.\n",
              " * @return {!Iterable<!Object>} Iterable of next steps.\n",
              " */\n",
              "function* uploadFilesStep(inputId, outputId) {\n",
              "  const inputElement = document.getElementById(inputId);\n",
              "  inputElement.disabled = false;\n",
              "\n",
              "  const outputElement = document.getElementById(outputId);\n",
              "  outputElement.innerHTML = '';\n",
              "\n",
              "  const pickedPromise = new Promise((resolve) => {\n",
              "    inputElement.addEventListener('change', (e) => {\n",
              "      resolve(e.target.files);\n",
              "    });\n",
              "  });\n",
              "\n",
              "  const cancel = document.createElement('button');\n",
              "  inputElement.parentElement.appendChild(cancel);\n",
              "  cancel.textContent = 'Cancel upload';\n",
              "  const cancelPromise = new Promise((resolve) => {\n",
              "    cancel.onclick = () => {\n",
              "      resolve(null);\n",
              "    };\n",
              "  });\n",
              "\n",
              "  // Wait for the user to pick the files.\n",
              "  const files = yield {\n",
              "    promise: Promise.race([pickedPromise, cancelPromise]),\n",
              "    response: {\n",
              "      action: 'starting',\n",
              "    }\n",
              "  };\n",
              "\n",
              "  cancel.remove();\n",
              "\n",
              "  // Disable the input element since further picks are not allowed.\n",
              "  inputElement.disabled = true;\n",
              "\n",
              "  if (!files) {\n",
              "    return {\n",
              "      response: {\n",
              "        action: 'complete',\n",
              "      }\n",
              "    };\n",
              "  }\n",
              "\n",
              "  for (const file of files) {\n",
              "    const li = document.createElement('li');\n",
              "    li.append(span(file.name, {fontWeight: 'bold'}));\n",
              "    li.append(span(\n",
              "        `(${file.type || 'n/a'}) - ${file.size} bytes, ` +\n",
              "        `last modified: ${\n",
              "            file.lastModifiedDate ? file.lastModifiedDate.toLocaleDateString() :\n",
              "                                    'n/a'} - `));\n",
              "    const percent = span('0% done');\n",
              "    li.appendChild(percent);\n",
              "\n",
              "    outputElement.appendChild(li);\n",
              "\n",
              "    const fileDataPromise = new Promise((resolve) => {\n",
              "      const reader = new FileReader();\n",
              "      reader.onload = (e) => {\n",
              "        resolve(e.target.result);\n",
              "      };\n",
              "      reader.readAsArrayBuffer(file);\n",
              "    });\n",
              "    // Wait for the data to be ready.\n",
              "    let fileData = yield {\n",
              "      promise: fileDataPromise,\n",
              "      response: {\n",
              "        action: 'continue',\n",
              "      }\n",
              "    };\n",
              "\n",
              "    // Use a chunked sending to avoid message size limits. See b/62115660.\n",
              "    let position = 0;\n",
              "    do {\n",
              "      const length = Math.min(fileData.byteLength - position, MAX_PAYLOAD_SIZE);\n",
              "      const chunk = new Uint8Array(fileData, position, length);\n",
              "      position += length;\n",
              "\n",
              "      const base64 = btoa(String.fromCharCode.apply(null, chunk));\n",
              "      yield {\n",
              "        response: {\n",
              "          action: 'append',\n",
              "          file: file.name,\n",
              "          data: base64,\n",
              "        },\n",
              "      };\n",
              "\n",
              "      let percentDone = fileData.byteLength === 0 ?\n",
              "          100 :\n",
              "          Math.round((position / fileData.byteLength) * 100);\n",
              "      percent.textContent = `${percentDone}% done`;\n",
              "\n",
              "    } while (position < fileData.byteLength);\n",
              "  }\n",
              "\n",
              "  // All done.\n",
              "  yield {\n",
              "    response: {\n",
              "      action: 'complete',\n",
              "    }\n",
              "  };\n",
              "}\n",
              "\n",
              "scope.google = scope.google || {};\n",
              "scope.google.colab = scope.google.colab || {};\n",
              "scope.google.colab._files = {\n",
              "  _uploadFiles,\n",
              "  _uploadFilesContinue,\n",
              "};\n",
              "})(self);\n",
              "</script> "
            ]
          },
          "metadata": {}
        },
        {
          "output_type": "stream",
          "name": "stdout",
          "text": [
            "Saving InclinationDictionary.npy to InclinationDictionary (1).npy\n",
            "Saving obs_BlackHill2.mag to obs_BlackHill2 (1).mag\n",
            "Saving XMagneticDataMaps.npy to XMagneticDataMaps (1).npy\n",
            "Saving YMagneticDataMaps.npy to YMagneticDataMaps (1).npy\n"
          ]
        }
      ],
      "source": [
        "from google.colab import files\n",
        "uploaded = files.upload()"
      ]
    },
    {
      "cell_type": "code",
      "execution_count": 3,
      "metadata": {
        "collapsed": true,
        "id": "uc40HwEGwaZT"
      },
      "outputs": [],
      "source": [
        "X = np.load(\"XMagneticDataMaps.npy\",\"r\")\n",
        "Y = np.load(\"YMagneticDataMaps.npy\", \"r\")"
      ]
    },
    {
      "cell_type": "markdown",
      "metadata": {
        "id": "1efdd_8awaZV"
      },
      "source": [
        "Note that **X** contains 4140 magnetic data maps, each of which is a 29 X 29 map. And **Y** contains 4140 labels, each of which corresponds to one data map in **X**."
      ]
    },
    {
      "cell_type": "markdown",
      "metadata": {
        "id": "djsmNO0q7PIB"
      },
      "source": [
        "**Note**: These training images were generated assuming the ambient inducing field is 50000 nT, and I=-65, D=8, susceptibility is 0.2, depth of the source body is 100m-200m. Also the angle increments for the forward-modeled datamaps were decreased from every 2 degrees to 4 degrees so that the data maps are not too large to be processed in Google Colab."
      ]
    },
    {
      "cell_type": "code",
      "execution_count": 4,
      "metadata": {
        "id": "VmQRZkPv6MVx"
      },
      "outputs": [],
      "source": [
        "# Create a dictionary that connects each label to a unique inclination range\n",
        "IncDict = np.load(\"InclinationDictionary.npy\", \"r\")\n",
        "Inc = {}\n",
        "for i in range(len(IncDict)):\n",
        "    Inc[IncDict[i,0]] = IncDict[i,1]"
      ]
    },
    {
      "cell_type": "code",
      "execution_count": 5,
      "metadata": {
        "id": "jujedCAX5_sU"
      },
      "outputs": [],
      "source": [
        "# conver integer category to inclination\n",
        "def cat_to_inc(Y):\n",
        "    return(Inc[str(int(Y))])"
      ]
    },
    {
      "cell_type": "markdown",
      "metadata": {
        "id": "zCaoB18B_lOt"
      },
      "source": [
        "## 3. Data preprocessing"
      ]
    },
    {
      "cell_type": "code",
      "execution_count": 6,
      "metadata": {
        "id": "pCbnI8Pt6B2v"
      },
      "outputs": [],
      "source": [
        "# Simple preprocessing \n",
        "# normalize each data type of the maximum value\n",
        "X = X/np.max(X)"
      ]
    },
    {
      "cell_type": "markdown",
      "metadata": {
        "id": "resQnmnhwaZV"
      },
      "source": [
        "## 4. Visualize Data"
      ]
    },
    {
      "cell_type": "code",
      "execution_count": 7,
      "metadata": {
        "colab": {
          "base_uri": "https://localhost:8080/",
          "height": 297
        },
        "id": "vRA-v8YRwaZW",
        "outputId": "d787d1e9-7b58-4003-f402-663eaba2b4c2"
      },
      "outputs": [
        {
          "output_type": "display_data",
          "data": {
            "text/plain": [
              "<Figure size 432x288 with 8 Axes>"
            ],
            "image/png": "[encoded data removed]"
          },
          "metadata": {
            "needs_background": "light"
          }
        }
      ],
      "source": [
        "randnum = np.random.randint(0,4140,4)\n",
        "for i in np.arange(4):\n",
        "    plt.subplot(2,2,i+1)\n",
        "    plt.imshow(X[randnum[i]].reshape((29,29)), cmap = 'jet')\n",
        "    plt.colorbar()\n",
        "    plt.title(\"Inclination:\" + cat_to_inc(Y[randnum[i]]))\n",
        "plt.tight_layout()      \n",
        "plt.show()"
      ]
    },
    {
      "cell_type": "markdown",
      "metadata": {
        "id": "0yP8dwvg_9Ce"
      },
      "source": [
        "You should notice that, the spatial patterns of the magnetic data anomalies depend upon the inclinations. In other words, there is a relationship between inclination (of magnetization) and spatial patterns (of magnetic anomalies shown in a data map). In this project, you are going to train a CNN to learn this relationship. Once the learning is finished, you will be able to predict the inclination, given a magnetic data map."
      ]
    },
    {
      "cell_type": "markdown",
      "metadata": {
        "id": "ij7HM0wiwaZX"
      },
      "source": [
        "## 5. Prepare training, validation and test data"
      ]
    },
    {
      "cell_type": "code",
      "execution_count": 8,
      "metadata": {
        "collapsed": true,
        "id": "x5XdCXhxwaZX"
      },
      "outputs": [],
      "source": [
        "X_train = X[0:int(len(X)*0.6)]\n",
        "X_val = X[int(len(X)*0.6):int(len(X)*0.6) + int(len(X)*0.2)]\n",
        "X_test = X[int(len(X)*0.6) + int(len(X)*0.2): -1]\n",
        "\n",
        "Y_train = to_categorical(Y[0:int(len(X)*0.6)])\n",
        "Y_val = to_categorical(Y[int(len(X)*0.6):int(len(X)*0.6) + int(len(X)*0.2)])\n",
        "Y_test = to_categorical(Y[int(len(X)*0.6) + int(len(X)*0.2): -1])"
      ]
    },
    {
      "cell_type": "markdown",
      "metadata": {
        "id": "DpVlwh8owaZY"
      },
      "source": [
        "The <font color=red>**training data**</font> and the corresponding labels are, respectively, <font color=blue>**X_train**</font> and <font color=blue>**Y_train**</font>. <br>\n",
        "The <font color=red>**validation data**</font> and the corresponding labels are, respectively, <font color=blue>**X_val**</font> and <font color=blue>**Y_val**</font>. <br>\n",
        "The <font color=red>**test data**</font> and the corresponding labels are, respectively, <font color=blue>**X_test**</font> and <font color=blue>**Y_test**</font>."
      ]
    },
    {
      "cell_type": "markdown",
      "metadata": {
        "id": "WEnkq0p5waZZ"
      },
      "source": [
        "## 6. Build and train your CNNs"
      ]
    },
    {
      "cell_type": "markdown",
      "metadata": {
        "id": "ncNyoexcJi5X"
      },
      "source": [
        "<font color = red>**Task 1:**</font> Create and train a CNN. It is totally up to you to design this CNN. You should make sure that your CNN will result in training accuracy, validation accuracy and test accuracy whose difference is no larger than 4%.  \n",
        "\n",
        "**Hint**: Because we are dealing with a multi-class problem here, you should use `softmax` as the activation for the output layer. And because there are 18 possible classes to predict, you should have 18 neurons in your last layer. "
      ]
    },
    {
      "cell_type": "code",
      "execution_count": 9,
      "metadata": {
        "colab": {
          "base_uri": "https://localhost:8080/"
        },
        "collapsed": true,
        "id": "HA7yMAogwaZZ",
        "outputId": "c9fe93e8-2cc6-4579-9db5-1bc547b650ce"
      },
      "outputs": [
        {
          "output_type": "stream",
          "name": "stdout",
          "text": [
            "Model: \"sequential\"\n",
            "_________________________________________________________________\n",
            " Layer (type)                Output Shape              Param #   \n",
            "=================================================================\n",
            " conv2d (Conv2D)             (None, 29, 29, 32)        320       \n",
            "                                                                 \n",
            " flatten (Flatten)           (None, 26912)             0         \n",
            "                                                                 \n",
            " dense (Dense)               (None, 128)               3444864   \n",
            "                                                                 \n",
            " dense_1 (Dense)             (None, 18)                2322      \n",
            "                                                                 \n",
            "=================================================================\n",
            "Total params: 3,447,506\n",
            "Trainable params: 3,447,506\n",
            "Non-trainable params: 0\n",
            "_________________________________________________________________\n"
          ]
        }
      ],
      "source": [
        "model = Sequential()\n",
        "model.add(Conv2D(32, kernel_size=(3,3), strides=1, padding=\"same\", input_shape=(29,29,1), activation=\"relu\"))\n",
        "# model.add(Conv2D(32, kernel_size=(3,3), strides=1, padding=\"same\", input_shape=(29,29,1), activation=\"relu\"))\n",
        "#model.add(BatchNormalization()) # avoid the gradient vanish\n",
        "# model.add(Conv2D(32, (3,3), padding=\"same\", activation=\"relu\"))\n",
        "# model.add(MaxPooling2D(pool_size=2)) # Reduce the dimension of figures\n",
        "model.add(Flatten())\n",
        "model.add(Dense(128, activation=\"relu\"))\n",
        "model.add(Dense(18, activation=\"softmax\")) # Output layer\n",
        "model.compile(loss='categorical_crossentropy', optimizer='adam', metrics=['accuracy'])\n",
        "model.summary()"
      ]
    },
    {
      "cell_type": "code",
      "execution_count": 10,
      "metadata": {
        "colab": {
          "base_uri": "https://localhost:8080/"
        },
        "id": "ikjHaidjR4Nx",
        "outputId": "583cc0a5-79a9-4969-b74e-b87584b82ebe"
      },
      "outputs": [
        {
          "output_type": "stream",
          "name": "stdout",
          "text": [
            "Epoch 1/10\n",
            "20/20 [==============================] - 3s 106ms/step - loss: 2.0105 - accuracy: 0.3064 - val_loss: 1.4751 - val_accuracy: 0.4752\n",
            "Epoch 2/10\n",
            "20/20 [==============================] - 3s 133ms/step - loss: 1.2977 - accuracy: 0.4948 - val_loss: 1.1616 - val_accuracy: 0.4813\n",
            "Epoch 3/10\n",
            "20/20 [==============================] - 3s 132ms/step - loss: 0.9884 - accuracy: 0.6010 - val_loss: 0.9392 - val_accuracy: 0.6626\n",
            "Epoch 4/10\n",
            "20/20 [==============================] - 2s 94ms/step - loss: 0.7832 - accuracy: 0.7053 - val_loss: 0.7509 - val_accuracy: 0.6820\n",
            "Epoch 5/10\n",
            "20/20 [==============================] - 2s 97ms/step - loss: 0.6823 - accuracy: 0.7303 - val_loss: 0.6662 - val_accuracy: 0.6856\n",
            "Epoch 6/10\n",
            "20/20 [==============================] - 2s 104ms/step - loss: 0.5875 - accuracy: 0.7637 - val_loss: 0.5682 - val_accuracy: 0.7570\n",
            "Epoch 7/10\n",
            "20/20 [==============================] - 2s 104ms/step - loss: 0.5167 - accuracy: 0.7878 - val_loss: 0.5345 - val_accuracy: 0.7654\n",
            "Epoch 8/10\n",
            "20/20 [==============================] - 3s 138ms/step - loss: 0.4404 - accuracy: 0.8366 - val_loss: 0.4258 - val_accuracy: 0.8489\n",
            "Epoch 9/10\n",
            "20/20 [==============================] - 3s 128ms/step - loss: 0.3787 - accuracy: 0.8603 - val_loss: 0.3916 - val_accuracy: 0.8198\n",
            "Epoch 10/10\n",
            "20/20 [==============================] - 2s 95ms/step - loss: 0.3360 - accuracy: 0.8756 - val_loss: 0.3626 - val_accuracy: 0.8440\n"
          ]
        }
      ],
      "source": [
        "history = model.fit(X_train, Y_train, batch_size=128, epochs=10, verbose=1, validation_data=(X_test, Y_test))  # to learn more about fit, go to https://keras.rstudio.com/reference/fit.html"
      ]
    },
    {
      "cell_type": "markdown",
      "metadata": {
        "id": "QM3SQIU-KMdI"
      },
      "source": [
        "## 7. Check learning curves"
      ]
    },
    {
      "cell_type": "markdown",
      "metadata": {
        "id": "mUxFjPYJKRu3"
      },
      "source": [
        "<font color = red>**Task 2:**</font> Plot the learning curves (i.e., curves of the training loss, training accuracy, validation loss and validation accuracy). "
      ]
    },
    {
      "cell_type": "code",
      "execution_count": 11,
      "metadata": {
        "colab": {
          "base_uri": "https://localhost:8080/",
          "height": 324
        },
        "id": "A8vACYMq2xDg",
        "outputId": "0e90a8ba-1b38-41f6-ff03-1139be6f1e17"
      },
      "outputs": [
        {
          "output_type": "display_data",
          "data": {
            "text/plain": [
              "<Figure size 720x360 with 1 Axes>"
            ],
            "image/png": "[encoded data removed]"
          },
          "metadata": {
            "needs_background": "light"
          }
        }
      ],
      "source": [
        "import pandas as pd\n",
        "pd.DataFrame(history.history).plot(figsize=(10,5))\n",
        "plt.grid(True)\n",
        "plt.gca().set_ylim(0,2)\n",
        "plt.show()"
      ]
    },
    {
      "cell_type": "markdown",
      "metadata": {
        "id": "CKz2A3hrKoax"
      },
      "source": [
        "<font color = red>**Task 3:**</font> Describe the learning curves \n"
      ]
    },
    {
      "cell_type": "markdown",
      "metadata": {
        "id": "lJeP9ylwJlQH"
      },
      "source": [
        "The accuracy and val_accuracy increase.\n",
        "\n",
        "The loss and val_loss decrease.\n",
        "\n",
        "The curves of training and validation data sets are pretty close, which represent our trained model is good, neither underfitting nor overfitting the data."
      ]
    },
    {
      "cell_type": "markdown",
      "metadata": {
        "id": "kuXITYvMwaZf"
      },
      "source": [
        "## 8. Check the accuracies on test data maps"
      ]
    },
    {
      "cell_type": "markdown",
      "metadata": {
        "id": "wXsCPe3fLMZK"
      },
      "source": [
        "<font color = red>**Task 4:**</font> Evaluate the model using test data. \n",
        "\n",
        "**HINT:** You can use `model.evaluate()`."
      ]
    },
    {
      "cell_type": "code",
      "execution_count": 12,
      "metadata": {
        "colab": {
          "base_uri": "https://localhost:8080/"
        },
        "id": "3GX5fWibwaZf",
        "outputId": "57c17e68-d4fe-40bc-c736-f81de463c39f"
      },
      "outputs": [
        {
          "output_type": "stream",
          "name": "stdout",
          "text": [
            "26/26 [==============================] - 0s 10ms/step - loss: 0.3626 - accuracy: 0.8440\n"
          ]
        }
      ],
      "source": [
        "mse_test = model.evaluate(X_test,Y_test)"
      ]
    },
    {
      "cell_type": "markdown",
      "metadata": {
        "id": "UZD3MBEiwaZf"
      },
      "source": [
        "## 9. Make predictions on synthetic test data maps"
      ]
    },
    {
      "cell_type": "code",
      "execution_count": 13,
      "metadata": {
        "colab": {
          "base_uri": "https://localhost:8080/",
          "height": 348
        },
        "id": "XjYeQasOwaZf",
        "outputId": "8b439a8e-b28e-4c52-8126-7e987dcb3ecc"
      },
      "outputs": [
        {
          "output_type": "stream",
          "name": "stdout",
          "text": [
            "1/1 [==============================] - 0s 131ms/step\n"
          ]
        },
        {
          "output_type": "display_data",
          "data": {
            "text/plain": [
              "<Figure size 1440x1440 with 4 Axes>"
            ],
            "image/png": "[encoded data removed]"
          },
          "metadata": {
            "needs_background": "light"
          }
        }
      ],
      "source": [
        "n = 420\n",
        "Xpred = X_test[n:n+4]\n",
        "Ytrue = Y_test[n:n+4]\n",
        "Ypred = model.predict(Xpred)\n",
        "plt.figure(figsize=(20,20))\n",
        "\n",
        "\n",
        "for i in range(4):\n",
        "    plt.subplot(1,4,i+1)\n",
        "    plt.imshow(Xpred[i].reshape(29,29), cmap=\"jet\")\n",
        "    plt.title(\"True:\" + cat_to_inc(np.argmax(Ytrue[i])) + \", Predicted: \" + cat_to_inc(np.argmax(Ypred[i])))\n",
        "\n",
        "plt.tight_layout()\n",
        "plt.show()"
      ]
    },
    {
      "cell_type": "markdown",
      "metadata": {
        "id": "GX5LaIjRLhHe"
      },
      "source": [
        "<font color = red>**Task 5:**</font> Summarize your observations of the above predictions. "
      ]
    },
    {
      "cell_type": "markdown",
      "metadata": {
        "id": "GB9i9rV6LIKq"
      },
      "source": [
        "We note that the figures from left to right are Fig. 1, Fig. 2, Fig. 3 and Fig. 4.\n",
        "\n",
        "We firstly observe that different ranges of inclinations display the different patterns (e.g., Fig. 2, 3, and 4). \n",
        "\n",
        "We also notice the Fig. 1 and Fig. 2 possess different features though they have same range of inclination. This observation makes sense, because same inclination probably have different declinations."
      ]
    },
    {
      "cell_type": "markdown",
      "metadata": {
        "id": "6OtjDF2B82Ye"
      },
      "source": [
        "## 10. Make predictions on field data"
      ]
    },
    {
      "cell_type": "markdown",
      "metadata": {
        "id": "6oy3DWSBEFHJ"
      },
      "source": [
        "Let us apply the CNN that you trained above to field data!!! "
      ]
    },
    {
      "cell_type": "markdown",
      "metadata": {
        "id": "FIIQFEcOEO7n"
      },
      "source": [
        "Our field data comes from an area in Australia called Black Hill Norite close to the City of Adelaide. Preivous studies show that these norites formed from a mafic intrusion of the Ordovician period.\n"
      ]
    },
    {
      "cell_type": "markdown",
      "metadata": {
        "id": "lNdXWrBdFXcl"
      },
      "source": [
        "Geoloy 101: Norite is a mafic intrusive igneous rock composed largely of the calcium-rich plagioclase labradorite, orthopyroxene, and olivine. The name norite is derived from Norge, the Norwegian name for Norway. Norite also known as orthopyroxene gabbro (https://en.wikipedia.org/wiki/Norite). Here is a picture of norite.\n",
        "\n",
        "<img src = \"https://drive.google.com/uc?id=1j_kpdMFM6BmmJQRzPPmOIsvpIGhY0kmJ\" width = \"300\">"
      ]
    },
    {
      "cell_type": "markdown",
      "metadata": {
        "id": "Fo28xp0EF_Yj"
      },
      "source": [
        "The magnetic data measured over this area is shown below (left). We observe strong magnetic anomalies resulting from the norite intrusions. In our project, we will focus on the anomalies located in the northwest region, which are shown below (right).\n",
        "\n",
        "<img src = \"https://drive.google.com/uc?id=1A8NmHyxM1CZ6acqhswX9cjfHo9EmCX5S\" width = \"500\">\n",
        "\n",
        "<img src = \"https://drive.google.com/uc?id=1TJRzFz0Uv8yVLGfltkq6RZEd_ENgl3WJ\" width = \"500\">\n"
      ]
    },
    {
      "cell_type": "markdown",
      "metadata": {
        "id": "lv84m8dbG6QO"
      },
      "source": [
        "Your job now is to use the CNN predictor that you have already trained above and apply it to the magnetic anomalies shown above on the right to predict its inclination. "
      ]
    },
    {
      "cell_type": "markdown",
      "metadata": {
        "id": "7d0ePukfHFRt"
      },
      "source": [
        "### 10.1 Read the magnetic data "
      ]
    },
    {
      "cell_type": "code",
      "execution_count": 14,
      "metadata": {
        "colab": {
          "base_uri": "https://localhost:8080/",
          "height": 265
        },
        "id": "_YNv7TQ8A_y6",
        "outputId": "0e331925-b049-4a45-d44d-01aca3341678"
      },
      "outputs": [
        {
          "output_type": "display_data",
          "data": {
            "text/plain": [
              "<Figure size 432x288 with 1 Axes>"
            ],
            "image/png": "[encoded data removed]"
          },
          "metadata": {
            "needs_background": "light"
          }
        }
      ],
      "source": [
        "count = 0\n",
        "i=0\n",
        "data = np.zeros(int(21*25))\n",
        "with open('obs_BlackHill2.mag') as f:\n",
        "    for line in f:\n",
        "        arr = line.split()\n",
        "        if i> 1:\n",
        "            data[count] = arr[3]\n",
        "            count+=1\n",
        "        i+=1\n",
        "data2d = np.reshape(data,(25,21))\n",
        "plt.imshow(data2d,cmap='jet')\n",
        "\n",
        "data2d_normalize = np.reshape(data2d, (1,25,21,1))/np.max(data2d)\n"
      ]
    },
    {
      "cell_type": "markdown",
      "metadata": {
        "id": "Tt5OtCfKHJNV"
      },
      "source": [
        "### 10.2 Make prediction"
      ]
    },
    {
      "cell_type": "code",
      "execution_count": 15,
      "metadata": {
        "id": "g2wZ8tUSCdSc"
      },
      "outputs": [],
      "source": [
        "field_data_resized = tf.image.resize(data2d_normalize,[29,29])"
      ]
    },
    {
      "cell_type": "markdown",
      "metadata": {
        "id": "vVfpqDLCL1eK"
      },
      "source": [
        "<font color = red>**Task 6:**</font> Apply the CNN that you trained above to the field data `field_data_resized`. Assign your prediction to `y_pred`."
      ]
    },
    {
      "cell_type": "code",
      "execution_count": 16,
      "metadata": {
        "colab": {
          "base_uri": "https://localhost:8080/"
        },
        "id": "dmdRudBLDFRe",
        "outputId": "93d7b4c5-528c-48cd-823c-f1fb76b0e980"
      },
      "outputs": [
        {
          "output_type": "stream",
          "name": "stdout",
          "text": [
            "1/1 [==============================] - 0s 25ms/step\n",
            "[[0.0000000e+00 0.0000000e+00 0.0000000e+00 0.0000000e+00 0.0000000e+00\n",
            "  2.6282044e-26 3.3657410e-14 1.0277860e-14 7.3759342e-03 9.9262094e-01\n",
            "  3.1335805e-06 6.0489177e-14 3.6818825e-12 2.0264923e-26 6.8595392e-33\n",
            "  1.5746789e-27 3.6659134e-38 0.0000000e+00]]\n"
          ]
        }
      ],
      "source": [
        "y_pred = model.predict(field_data_resized)\n",
        "print(y_pred)"
      ]
    },
    {
      "cell_type": "code",
      "execution_count": 17,
      "metadata": {
        "colab": {
          "base_uri": "https://localhost:8080/"
        },
        "id": "C_z4zFu_DLRQ",
        "outputId": "858b1ed3-cb62-42d6-e5bc-b2ce883dbb46"
      },
      "outputs": [
        {
          "output_type": "stream",
          "name": "stdout",
          "text": [
            "The predicted inclination is: (0, 10]\n"
          ]
        }
      ],
      "source": [
        "print('The predicted inclination is:',cat_to_inc(np.argmax(y_pred)))"
      ]
    },
    {
      "cell_type": "markdown",
      "metadata": {
        "collapsed": true,
        "id": "wYEcbm_mwaZg"
      },
      "source": [
        "## Acknowledgments\n",
        "I would like to thank Felicia Nurindrawati for help create this lab exercise. Felicia was a graduate student working with Dr. Jiajia Sun in the Department of Earth and Atmospheric Sciences at the University of Houston. She is now a machine learning engineer at TCarta. <br>\n",
        "\n",
        "<img src = \"https://drive.google.com/uc?id=1C8058sZbGd3IDZg1lHi6wHklflysMALe\" width = \"200\">\n"
      ]
    }
  ],
  "metadata": {
    "colab": {
      "provenance": []
    },
    "kernelspec": {
      "display_name": "Python 3 (ipykernel)",
      "language": "python",
      "name": "python3"
    },
    "language_info": {
      "codemirror_mode": {
        "name": "ipython",
        "version": 3
      },
      "file_extension": ".py",
      "mimetype": "text/x-python",
      "name": "python",
      "nbconvert_exporter": "python",
      "pygments_lexer": "ipython3",
      "version": "3.9.12"
    }
  },
  "nbformat": 4,
  "nbformat_minor": 0
}